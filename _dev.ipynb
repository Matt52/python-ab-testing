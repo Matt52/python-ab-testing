{
 "cells": [
  {
   "cell_type": "code",
   "execution_count": 60,
   "metadata": {},
   "outputs": [],
   "source": [
    "import numpy as np\n",
    "\n",
    "def pbb_conversion(totals, successes, sim_count = 10000):\n",
    "    beta_samples = np.array([np.random.beta(successes[i] + 1/2, totals[i] - successes[i] + 1/2, sim_count) for i in range(len(totals))])\n",
    "    \n",
    "    max_values = np.argmax(beta_samples, axis=0)\n",
    "    unique, counts = np.unique(max_values, return_counts=True)\n",
    "    ocurrences = dict(zip(unique, counts))\n",
    "    \n",
    "    result = []\n",
    "    for i in range(len(totals)):\n",
    "        result.append(round(ocurrences.get(i, 0) / sim_count, 5))\n",
    "    \n",
    "    return result"
   ]
  },
  {
   "cell_type": "code",
   "execution_count": 59,
   "metadata": {},
   "outputs": [
    {
     "data": {
      "text/plain": [
       "[0.05412, 0.94588]"
      ]
     },
     "execution_count": 59,
     "metadata": {},
     "output_type": "execute_result"
    }
   ],
   "source": [
    "pbb_conversion([1000,1000], [200,230], 100000)"
   ]
  },
  {
   "cell_type": "code",
   "execution_count": 55,
   "metadata": {},
   "outputs": [
    {
     "data": {
      "text/plain": [
       "[0.36307, 0.63693]"
      ]
     },
     "execution_count": 55,
     "metadata": {},
     "output_type": "execute_result"
    }
   ],
   "source": [
    "pbb_conversion([100,100], [20,22], 100000)"
   ]
  },
  {
   "cell_type": "code",
   "execution_count": 44,
   "metadata": {},
   "outputs": [],
   "source": [
    "import numpy as np\n",
    "\n",
    "def pbb_conversion(totals, successes, sim_count = 10000):\n",
    "    beta_samples = np.array([np.random.beta(successes[i] + 1/2, totals[i] - successes[i] + 1/2, sim_count) for i in range(len(totals))])\n",
    "    \n",
    "    max_values = np.argmax(beta_samples, axis=0)\n",
    "    unique, counts = np.unique(max_values, return_counts=True)\n",
    "    ocurrences = dict(zip(unique, counts))\n",
    "    \n",
    "    result = []\n",
    "    for i in range(len(totals)):\n",
    "        result.append(round(ocurrences.get(i, 0) / sim_count, 5))\n",
    "    \n",
    "    return (beta_samples[0] - beta_samples[1])  #/ beta_samples[0]"
   ]
  },
  {
   "cell_type": "code",
   "execution_count": 45,
   "metadata": {},
   "outputs": [],
   "source": [
    "arr = pbb_conversion([1000,1000], [197,230], 1000000)"
   ]
  },
  {
   "cell_type": "code",
   "execution_count": 46,
   "metadata": {},
   "outputs": [
    {
     "data": {
      "text/plain": [
       "0.0073162350848118155"
      ]
     },
     "execution_count": 46,
     "metadata": {},
     "output_type": "execute_result"
    },
    {
     "data": {
      "text/plain": [
       "-0.034477401964820825"
      ]
     },
     "execution_count": 46,
     "metadata": {},
     "output_type": "execute_result"
    }
   ],
   "source": [
    "#np.mean(arr)\n",
    "np.mean(arr[arr>0])\n",
    "np.mean(arr[arr<0])"
   ]
  },
  {
   "cell_type": "code",
   "execution_count": 64,
   "metadata": {},
   "outputs": [],
   "source": [
    "import numpy as np\n",
    "\n",
    "def pbb_conversion_loss(totals, successes, sim_count = 10000):\n",
    "    beta_samples = np.array([np.random.beta(successes[i] + 1/2, totals[i] - successes[i] + 1/2, sim_count) for i in range(len(totals))])\n",
    "    \n",
    "    max_values = np.argmax(beta_samples, axis=0)\n",
    "    unique, counts = np.unique(max_values, return_counts=True)\n",
    "    ocurrences = dict(zip(unique, counts))\n",
    "    \n",
    "    result = []\n",
    "    for i in range(len(totals)):\n",
    "        result.append(round(ocurrences.get(i, 0) / sim_count, 5))\n",
    "        \n",
    "    A = beta_samples[0]\n",
    "    B = beta_samples[1]\n",
    "    A_AoverB = (A * (A>B))\n",
    "    B_AoverB = (B * (A>B))\n",
    "    A_AoverB_nonzero = A_AoverB[A_AoverB != 0]\n",
    "    B_AoverB_nonzero = B_AoverB[B_AoverB != 0]\n",
    "    \n",
    "    f_mean = np.mean((A_AoverB_nonzero - B_AoverB_nonzero) / B_AoverB_nonzero)\n",
    "    \n",
    "    diff_mean = np.mean(A_AoverB_nonzero - B_AoverB_nonzero)\n",
    "    \n",
    "    \n",
    "    \n",
    "    return diff_mean, f_mean, diff_mean * f_mean, np.mean(A_AoverB - B_AoverB), np.mean(A_AoverB - B_AoverB) / result[0]\n",
    "#np.mean((A_AoverB_nonzero - B_AoverB_nonzero) * A_AoverB_nonzero * B_AoverB_nonzero)\n",
    "#(beta_samples[0] - beta_samples[1]) / beta_samples[0]"
   ]
  },
  {
   "cell_type": "code",
   "execution_count": 67,
   "metadata": {},
   "outputs": [
    {
     "data": {
      "text/plain": [
       "(0.007661636324256129,\n",
       " 0.036789896451932924,\n",
       " 0.000281870807021751,\n",
       " 0.00039131807526138196,\n",
       " 0.007660886359854776)"
      ]
     },
     "execution_count": 67,
     "metadata": {},
     "output_type": "execute_result"
    },
    {
     "data": {
      "text/plain": [
       "(0.0072425821427005614,\n",
       " 0.03497961289950878,\n",
       " 0.0002533427197445605,\n",
       " 0.00026121096755863857,\n",
       " 0.007241778973070102)"
      ]
     },
     "execution_count": 67,
     "metadata": {},
     "output_type": "execute_result"
    }
   ],
   "source": [
    "pbb_conversion_loss([1000,1000], [200,230], 1000000)\n",
    "pbb_conversion_loss([1000,1000], [197,230], 1000000)"
   ]
  },
  {
   "cell_type": "code",
   "execution_count": 33,
   "metadata": {},
   "outputs": [
    {
     "data": {
      "text/plain": [
       "(0.032027660287368816,\n",
       " 0.16457240879129686,\n",
       " 0.0052708692014416456,\n",
       " 0.030385666199756002,\n",
       " 0.03375845634413249,\n",
       " 0.2312932795653056,\n",
       " 0.19926561927793687)"
      ]
     },
     "execution_count": 33,
     "metadata": {},
     "output_type": "execute_result"
    }
   ],
   "source": [
    "pbb_conversion_loss([1000,1000], [230,200], 1000000)"
   ]
  },
  {
   "cell_type": "code",
   "execution_count": 34,
   "metadata": {},
   "outputs": [],
   "source": [
    "a = 0.2312932795653056\n",
    "b = 0.19926561927793687"
   ]
  },
  {
   "cell_type": "code",
   "execution_count": 36,
   "metadata": {},
   "outputs": [
    {
     "data": {
      "text/plain": [
       "0.16072848092623726"
      ]
     },
     "execution_count": 36,
     "metadata": {},
     "output_type": "execute_result"
    },
    {
     "data": {
      "text/plain": [
       "0.16072848092623723"
      ]
     },
     "execution_count": 36,
     "metadata": {},
     "output_type": "execute_result"
    }
   ],
   "source": [
    "a/b-1"
   ]
  },
  {
   "cell_type": "code",
   "execution_count": 39,
   "metadata": {},
   "outputs": [
    {
     "data": {
      "text/plain": [
       "1.1542382516032264"
      ]
     },
     "execution_count": 39,
     "metadata": {},
     "output_type": "execute_result"
    }
   ],
   "source": [
    "0.23/b"
   ]
  },
  {
   "cell_type": "markdown",
   "metadata": {},
   "source": [
    "### pokus podla\n",
    "https://cdn2.hubspot.net/hubfs/310840/VWO_SmartStats_technical_whitepaper.pdf"
   ]
  },
  {
   "cell_type": "code",
   "execution_count": 363,
   "metadata": {},
   "outputs": [],
   "source": [
    "totals = [100,100]\n",
    "successes = [20,22]\n",
    "#successes = [230,230]\n",
    "\n",
    "sim_count = 1000"
   ]
  },
  {
   "cell_type": "code",
   "execution_count": 364,
   "metadata": {},
   "outputs": [],
   "source": [
    "beta_samples = np.array([np.random.beta(successes[i] + 1/2, totals[i] - successes[i] + 1/2, sim_count) for i in range(len(totals))])\n",
    "\n",
    "posteriorA = beta_samples[0]\n",
    "posteriorB = beta_samples[1]"
   ]
  },
  {
   "cell_type": "code",
   "execution_count": 365,
   "metadata": {},
   "outputs": [],
   "source": [
    "joint_posterior = np.zeros(shape=(sim_count, sim_count))"
   ]
  },
  {
   "cell_type": "code",
   "execution_count": 366,
   "metadata": {},
   "outputs": [],
   "source": [
    "for i in range(sim_count):\n",
    "    for j in range(sim_count):\n",
    "        joint_posterior[i,j] = posteriorA[i] * posteriorB[j]"
   ]
  },
  {
   "cell_type": "code",
   "execution_count": 367,
   "metadata": {},
   "outputs": [],
   "source": [
    "errorFunctionA = 0.0\n",
    "for i in range(sim_count):\n",
    "    for j in range(i, sim_count):\n",
    "        errorFunctionA += joint_posterior[i,j]"
   ]
  },
  {
   "cell_type": "code",
   "execution_count": 368,
   "metadata": {},
   "outputs": [],
   "source": [
    "def loss(i, j, var):\n",
    "    if var == 'A':\n",
    "        return max(j*(1/sim_count) - i*(1/sim_count), 0.0)\n",
    "    if var == 'B':\n",
    "        return max(i*(1/sim_count) - j*(1/sim_count), 0.0)"
   ]
  },
  {
   "cell_type": "code",
   "execution_count": 369,
   "metadata": {},
   "outputs": [],
   "source": [
    "lossFunctionA = 0.0\n",
    "lossFunctionB = 0.0\n",
    "for i in range(sim_count):\n",
    "    for j in range(sim_count):\n",
    "        lossFunctionA += joint_posterior[i,j] * loss(i,j,'A')\n",
    "        lossFunctionB += joint_posterior[i,j] * loss(i,j,'B')"
   ]
  },
  {
   "cell_type": "code",
   "execution_count": 370,
   "metadata": {},
   "outputs": [
    {
     "data": {
      "text/plain": [
       "0.007468349302886589"
      ]
     },
     "execution_count": 370,
     "metadata": {},
     "output_type": "execute_result"
    },
    {
     "data": {
      "text/plain": [
       "0.007581816459592829"
      ]
     },
     "execution_count": 370,
     "metadata": {},
     "output_type": "execute_result"
    }
   ],
   "source": [
    "lossFunctionA/(sim_count**2)\n",
    "lossFunctionB/(sim_count**2)"
   ]
  },
  {
   "cell_type": "markdown",
   "metadata": {},
   "source": [
    "### pokus podla:\n",
    "https://www.chrisstucchio.com/blog/2014/bayesian_ab_decision_rule.html<br>\n",
    "https://github.com/Vidogreg/bayes-ab-testing/blob/master/bayes-conversion-test/utilities.R"
   ]
  },
  {
   "cell_type": "code",
   "execution_count": 387,
   "metadata": {},
   "outputs": [
    {
     "data": {
      "text/plain": [
       "[0.36398, 0.63602]"
      ]
     },
     "execution_count": 387,
     "metadata": {},
     "output_type": "execute_result"
    }
   ],
   "source": [
    "A_c = 20\n",
    "A_t = 100\n",
    "B_c = 22\n",
    "B_t = 100\n",
    "\n",
    "alphaA = A_c\n",
    "alphaB = B_c\n",
    "betaA = A_t - A_c\n",
    "betaB = B_t - B_c\n",
    "\n",
    "pbbs = pbb_conversion([A_t,B_t], [A_c,B_c], 100000)\n",
    "pbbs\n",
    "\n",
    "A_better = pbbs[0]\n",
    "B_better = pbbs[1]"
   ]
  },
  {
   "cell_type": "code",
   "execution_count": 393,
   "metadata": {},
   "outputs": [],
   "source": [
    "import math\n",
    " \n",
    "def beta(a,b):\n",
    "     \n",
    "    '''uses gamma function or inbuilt math.gamma() to compute values of beta function'''\n",
    "     \n",
    "    beta = math.gamma(a)*math.gamma(b)/math.gamma(a+b)\n",
    "    return beta"
   ]
  },
  {
   "cell_type": "code",
   "execution_count": 396,
   "metadata": {},
   "outputs": [
    {
     "data": {
      "text/plain": [
       "0.0671284"
      ]
     },
     "execution_count": 396,
     "metadata": {},
     "output_type": "execute_result"
    }
   ],
   "source": [
    "(beta(alphaB + 1, betaB) / beta(alphaB, betaB)) * B_better - (beta(alphaA + 1, betaA) / beta(alphaA, betaA)) * A_better"
   ]
  },
  {
   "cell_type": "code",
   "execution_count": null,
   "metadata": {},
   "outputs": [],
   "source": []
  }
 ],
 "metadata": {
  "kernelspec": {
   "display_name": "Python 3",
   "language": "python",
   "name": "python3"
  },
  "language_info": {
   "codemirror_mode": {
    "name": "ipython",
    "version": 3
   },
   "file_extension": ".py",
   "mimetype": "text/x-python",
   "name": "python",
   "nbconvert_exporter": "python",
   "pygments_lexer": "ipython3",
   "version": "3.7.3"
  }
 },
 "nbformat": 4,
 "nbformat_minor": 2
}

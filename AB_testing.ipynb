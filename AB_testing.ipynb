{
 "cells": [
  {
   "cell_type": "markdown",
   "metadata": {},
   "source": [
    "# Frequentist AB testing"
   ]
  },
  {
   "cell_type": "markdown",
   "metadata": {},
   "source": [
    "calculators:<br>\n",
    "https://www.surveymonkey.com/mp/ab-testing-significance-calculator/<br>\n",
    "https://abtestguide.com/calc/<br>\n",
    "https://abtestguide.com/abtestsize/<br>\n",
    "\n",
    "interesting reading:<br>\n",
    "https://towardsdatascience.com/the-art-of-a-b-testing-5a10c9bb70a4<br>\n",
    "https://www.invespcro.com/blog/calculating-sample-size-for-an-ab-test/<br>\n",
    "https://www.richrelevance.com/blog/2013/08/26/bayesian-ab-testing-with-a-log-normal-model/<br>\n",
    "https://portal.pixelfederation.com/cs/blog/article/ab-testing-methodology-change<br>\n",
    "http://varianceexplained.org/r/bayesian-ab-testing/<br>\n",
    "https://towardsdatascience.com/hypothesis-testing-in-machine-learning-using-python-a0dc89e169ce<br>"
   ]
  },
  {
   "cell_type": "code",
   "execution_count": 1,
   "metadata": {},
   "outputs": [],
   "source": [
    "import sys\n",
    "sys.path.append(\"./tools\")\n",
    "from ab_testing import *\n",
    "from scipy.stats import norm\n",
    "\n",
    "from IPython.core.interactiveshell import InteractiveShell\n",
    "InteractiveShell.ast_node_interactivity = \"all\""
   ]
  },
  {
   "cell_type": "code",
   "execution_count": 2,
   "metadata": {},
   "outputs": [
    {
     "data": {
      "text/plain": [
       "[1561.927067135466, 1561.927067135466]"
      ]
     },
     "execution_count": 2,
     "metadata": {},
     "output_type": "execute_result"
    },
    {
     "data": {
      "text/plain": [
       "[384.5951069831055, 384.5951069831055]"
      ]
     },
     "execution_count": 2,
     "metadata": {},
     "output_type": "execute_result"
    },
    {
     "data": {
      "text/plain": [
       "[2324.1146665611577, 2324.1146665611577]"
      ]
     },
     "execution_count": 2,
     "metadata": {},
     "output_type": "execute_result"
    },
    {
     "data": {
      "text/plain": [
       "[3838.102190096708, 3838.102190096708]"
      ]
     },
     "execution_count": 2,
     "metadata": {},
     "output_type": "execute_result"
    },
    {
     "data": {
      "text/plain": [
       "[31230.69246297497, 31230.69246297497]"
      ]
     },
     "execution_count": 2,
     "metadata": {},
     "output_type": "execute_result"
    },
    {
     "data": {
      "text/plain": [
       "[36690.02436708896, 36690.02436708896]"
      ]
     },
     "execution_count": 2,
     "metadata": {},
     "output_type": "execute_result"
    }
   ],
   "source": [
    "z_test_sample_size(0.5, 0.1)\n",
    "z_test_sample_size(0.5, 0.2)\n",
    "z_test_sample_size(0.5, 0.1, 0.99)\n",
    "z_test_sample_size(0.1, 0.2)\n",
    "z_test_sample_size(0.05, 0.1)\n",
    "z_test_sample_size(0.02, 0.15)"
   ]
  },
  {
   "cell_type": "code",
   "execution_count": 3,
   "metadata": {},
   "outputs": [
    {
     "data": {
      "text/plain": [
       "782.5259552102923"
      ]
     },
     "execution_count": 3,
     "metadata": {},
     "output_type": "execute_result"
    },
    {
     "data": {
      "text/plain": [
       "193.84728588314755"
      ]
     },
     "execution_count": 3,
     "metadata": {},
     "output_type": "execute_result"
    },
    {
     "data": {
      "text/plain": [
       "1165.0151714801314"
      ]
     },
     "execution_count": 3,
     "metadata": {},
     "output_type": "execute_result"
    },
    {
     "data": {
      "text/plain": [
       "1855.3855181282368"
      ]
     },
     "execution_count": 3,
     "metadata": {},
     "output_type": "execute_result"
    },
    {
     "data": {
      "text/plain": [
       "15328.285996263996"
      ]
     },
     "execution_count": 3,
     "metadata": {},
     "output_type": "execute_result"
    },
    {
     "data": {
      "text/plain": [
       "17827.30199088534"
      ]
     },
     "execution_count": 3,
     "metadata": {},
     "output_type": "execute_result"
    }
   ],
   "source": [
    "z_test_sample_size_alternative(0.5, 0.1)\n",
    "z_test_sample_size_alternative(0.5, 0.2)\n",
    "z_test_sample_size_alternative(0.5, 0.1, 0.99)\n",
    "z_test_sample_size_alternative(0.1, 0.2)\n",
    "z_test_sample_size_alternative(0.05, 0.1)\n",
    "z_test_sample_size_alternative(0.02, 0.15)"
   ]
  },
  {
   "cell_type": "code",
   "execution_count": 4,
   "metadata": {},
   "outputs": [
    {
     "data": {
      "text/plain": [
       "1162.0"
      ]
     },
     "execution_count": 4,
     "metadata": {},
     "output_type": "execute_result"
    },
    {
     "data": {
      "text/plain": [
       "1278.2"
      ]
     },
     "execution_count": 4,
     "metadata": {},
     "output_type": "execute_result"
    }
   ],
   "source": [
    "2324*0.5\n",
    "2324*(0.5*1.1)"
   ]
  },
  {
   "cell_type": "code",
   "execution_count": 5,
   "metadata": {},
   "outputs": [
    {
     "name": "stdout",
     "output_type": "stream",
     "text": [
      "winning: B (significant)\n",
      "conversion rate A: 50.0%\n",
      "conversion rate B: 55.034%\n",
      "uplift: 10.069%\n",
      "standard error A: 0.01037\n",
      "standard error B: 0.01032\n",
      "Z-score: 3.44101\n",
      "p-value: 0.00058\n",
      "power: 0.80653\n"
     ]
    }
   ],
   "source": [
    "AB_z_test(\n",
    "    totals_A = 2324\n",
    "    ,successes_A = 1162\n",
    "    ,totals_B = 2324\n",
    "    ,successes_B = 1279\n",
    "    ,confidance = 0.99 #confidance level (0.95 if not set)\n",
    "    #,test_type = 'two-tailed' #('two-tailed' if not set)\n",
    ")"
   ]
  },
  {
   "cell_type": "code",
   "execution_count": 6,
   "metadata": {},
   "outputs": [],
   "source": [
    "# import numpy as np\n",
    "# from scipy.stats import chi2_contingency, fisher_exact\n",
    "\n",
    "# obs = np.array([[15000, 700],[15000,800]])\n",
    "\n",
    "# g, p, dof, expctd = chi2_contingency(obs, correction = False)\n",
    "# p"
   ]
  },
  {
   "cell_type": "markdown",
   "metadata": {},
   "source": [
    "Let's say we are testing a new feature on our web (e.g. online shop).<br>\n",
    "We split a trafic 50/50 between two variants: ____A____ for a current version and __B__ for a new version. After 7 days of testing we get results:<br>\n",
    "- number of sessions A = 15,000<br>\n",
    "- number of sessions B = 15,000<br>\n",
    "- number of conversions A = 700<br>\n",
    "- number of conversions B = 800<br>\n",
    "\n",
    "We can see that conversion rate for variant B is higher (5.2% vs 4.7%).<br>\n",
    "To test if this difference is significant we can perform Z-test with __hypothesis__ that there is no difference in conversion rates for these two variants"
   ]
  },
  {
   "cell_type": "code",
   "execution_count": 7,
   "metadata": {},
   "outputs": [
    {
     "name": "stdout",
     "output_type": "stream",
     "text": [
      "winning: B (significant)\n",
      "conversion rate A: 1.0%\n",
      "conversion rate B: 1.3%\n",
      "uplift: 30.0%\n",
      "standard error A: 0.00099\n",
      "standard error B: 0.00113\n",
      "Z-score: 1.98981\n",
      "p-value: 0.04661\n",
      "power: 0.51191\n"
     ]
    }
   ],
   "source": [
    "AB_z_test(\n",
    "    totals_A = 10000\n",
    "    ,successes_A = 100\n",
    "    ,totals_B = 10000\n",
    "    ,successes_B = 130\n",
    "    #,confidance = 0.95 #confidance level (0.95 if not set)\n",
    "    #,test_type = 'two-tailed' #('two-tailed' if not set)\n",
    ")"
   ]
  },
  {
   "cell_type": "markdown",
   "metadata": {},
   "source": [
    "As p-value < 0.05, we are __rejecting__ the hypothesis and we can be 95% confident that this result is a consequence of variant difference."
   ]
  },
  {
   "cell_type": "code",
   "execution_count": null,
   "metadata": {},
   "outputs": [],
   "source": []
  },
  {
   "cell_type": "code",
   "execution_count": null,
   "metadata": {},
   "outputs": [],
   "source": []
  },
  {
   "cell_type": "code",
   "execution_count": null,
   "metadata": {},
   "outputs": [],
   "source": []
  },
  {
   "cell_type": "code",
   "execution_count": 8,
   "metadata": {},
   "outputs": [],
   "source": [
    "import pandas as pd\n",
    "import datetime\n",
    "\n",
    "\n",
    "from IPython.core.interactiveshell import InteractiveShell\n",
    "InteractiveShell.ast_node_interactivity = \"all\""
   ]
  },
  {
   "cell_type": "code",
   "execution_count": 9,
   "metadata": {},
   "outputs": [],
   "source": [
    "params = [\n",
    "    {'variant' : 'A', 'source': 'mobile', 'impressions': 5000, 'orders': 200, 'mean': 2},\n",
    "    {'variant' : 'B', 'source': 'mobile', 'impressions': 5000, 'orders': 215, 'mean': 2.3},\n",
    "    {'variant' : 'A', 'source': 'desktop', 'impressions': 10000, 'orders': 500, 'mean': 2.7},\n",
    "    {'variant' : 'B', 'source': 'desktop', 'impressions': 10000, 'orders': 565, 'mean': 2.9},\n",
    "]\n",
    "\n",
    "dates_1 = np.array([datetime.date(2019, 5, np.random.randint(1,7+1)) for i in range(500)])\n",
    "orders = np.random.lognormal(mean=2, sigma=1.0, size=500)"
   ]
  },
  {
   "cell_type": "code",
   "execution_count": 10,
   "metadata": {},
   "outputs": [],
   "source": [
    "data = []\n",
    "\n",
    "for p in params:\n",
    "    dates = np.array([datetime.date(2019, 5, np.random.randint(1,7+1)) for i in range(p['impressions'])])\n",
    "    orders = np.append(\n",
    "        np.random.lognormal(mean=p['mean'], sigma=1.0, size=p['orders']),\n",
    "        np.zeros(p['impressions'] - p['orders'])\n",
    "    )\n",
    "    for i in range(p['impressions']):\n",
    "        data.append({\n",
    "            'date': dates[i],\n",
    "            'variant': p['variant'],\n",
    "            'source': p['source'],\n",
    "            'conversion': 1 if orders[i] > 0 else 0,\n",
    "            'revenue': orders[i]\n",
    "        })\n",
    "    "
   ]
  },
  {
   "cell_type": "code",
   "execution_count": 11,
   "metadata": {},
   "outputs": [
    {
     "data": {
      "text/html": [
       "<div>\n",
       "<style scoped>\n",
       "    .dataframe tbody tr th:only-of-type {\n",
       "        vertical-align: middle;\n",
       "    }\n",
       "\n",
       "    .dataframe tbody tr th {\n",
       "        vertical-align: top;\n",
       "    }\n",
       "\n",
       "    .dataframe thead th {\n",
       "        text-align: right;\n",
       "    }\n",
       "</style>\n",
       "<table border=\"1\" class=\"dataframe\">\n",
       "  <thead>\n",
       "    <tr style=\"text-align: right;\">\n",
       "      <th></th>\n",
       "      <th>conversion</th>\n",
       "      <th>date</th>\n",
       "      <th>revenue</th>\n",
       "      <th>source</th>\n",
       "      <th>variant</th>\n",
       "    </tr>\n",
       "  </thead>\n",
       "  <tbody>\n",
       "    <tr>\n",
       "      <th>0</th>\n",
       "      <td>0</td>\n",
       "      <td>2019-05-03</td>\n",
       "      <td>0.0</td>\n",
       "      <td>desktop</td>\n",
       "      <td>B</td>\n",
       "    </tr>\n",
       "    <tr>\n",
       "      <th>1</th>\n",
       "      <td>0</td>\n",
       "      <td>2019-05-03</td>\n",
       "      <td>0.0</td>\n",
       "      <td>desktop</td>\n",
       "      <td>A</td>\n",
       "    </tr>\n",
       "    <tr>\n",
       "      <th>2</th>\n",
       "      <td>0</td>\n",
       "      <td>2019-05-01</td>\n",
       "      <td>0.0</td>\n",
       "      <td>desktop</td>\n",
       "      <td>A</td>\n",
       "    </tr>\n",
       "    <tr>\n",
       "      <th>3</th>\n",
       "      <td>0</td>\n",
       "      <td>2019-05-01</td>\n",
       "      <td>0.0</td>\n",
       "      <td>desktop</td>\n",
       "      <td>A</td>\n",
       "    </tr>\n",
       "    <tr>\n",
       "      <th>4</th>\n",
       "      <td>0</td>\n",
       "      <td>2019-05-02</td>\n",
       "      <td>0.0</td>\n",
       "      <td>mobile</td>\n",
       "      <td>B</td>\n",
       "    </tr>\n",
       "    <tr>\n",
       "      <th>5</th>\n",
       "      <td>0</td>\n",
       "      <td>2019-05-03</td>\n",
       "      <td>0.0</td>\n",
       "      <td>mobile</td>\n",
       "      <td>A</td>\n",
       "    </tr>\n",
       "    <tr>\n",
       "      <th>6</th>\n",
       "      <td>0</td>\n",
       "      <td>2019-05-06</td>\n",
       "      <td>0.0</td>\n",
       "      <td>mobile</td>\n",
       "      <td>B</td>\n",
       "    </tr>\n",
       "    <tr>\n",
       "      <th>7</th>\n",
       "      <td>0</td>\n",
       "      <td>2019-05-01</td>\n",
       "      <td>0.0</td>\n",
       "      <td>desktop</td>\n",
       "      <td>A</td>\n",
       "    </tr>\n",
       "    <tr>\n",
       "      <th>8</th>\n",
       "      <td>0</td>\n",
       "      <td>2019-05-01</td>\n",
       "      <td>0.0</td>\n",
       "      <td>mobile</td>\n",
       "      <td>A</td>\n",
       "    </tr>\n",
       "    <tr>\n",
       "      <th>9</th>\n",
       "      <td>0</td>\n",
       "      <td>2019-05-01</td>\n",
       "      <td>0.0</td>\n",
       "      <td>mobile</td>\n",
       "      <td>B</td>\n",
       "    </tr>\n",
       "  </tbody>\n",
       "</table>\n",
       "</div>"
      ],
      "text/plain": [
       "   conversion        date  revenue   source variant\n",
       "0           0  2019-05-03      0.0  desktop       B\n",
       "1           0  2019-05-03      0.0  desktop       A\n",
       "2           0  2019-05-01      0.0  desktop       A\n",
       "3           0  2019-05-01      0.0  desktop       A\n",
       "4           0  2019-05-02      0.0   mobile       B\n",
       "5           0  2019-05-03      0.0   mobile       A\n",
       "6           0  2019-05-06      0.0   mobile       B\n",
       "7           0  2019-05-01      0.0  desktop       A\n",
       "8           0  2019-05-01      0.0   mobile       A\n",
       "9           0  2019-05-01      0.0   mobile       B"
      ]
     },
     "execution_count": 11,
     "metadata": {},
     "output_type": "execute_result"
    }
   ],
   "source": [
    "df = pd.DataFrame(data).sample(frac=1).reset_index(drop=True)\n",
    "df.head(10)"
   ]
  },
  {
   "cell_type": "code",
   "execution_count": 12,
   "metadata": {},
   "outputs": [
    {
     "data": {
      "text/html": [
       "<div>\n",
       "<style scoped>\n",
       "    .dataframe tbody tr th:only-of-type {\n",
       "        vertical-align: middle;\n",
       "    }\n",
       "\n",
       "    .dataframe tbody tr th {\n",
       "        vertical-align: top;\n",
       "    }\n",
       "\n",
       "    .dataframe thead th {\n",
       "        text-align: right;\n",
       "    }\n",
       "</style>\n",
       "<table border=\"1\" class=\"dataframe\">\n",
       "  <thead>\n",
       "    <tr style=\"text-align: right;\">\n",
       "      <th></th>\n",
       "      <th>conversion</th>\n",
       "      <th>revenue</th>\n",
       "    </tr>\n",
       "    <tr>\n",
       "      <th>variant</th>\n",
       "      <th></th>\n",
       "      <th></th>\n",
       "    </tr>\n",
       "  </thead>\n",
       "  <tbody>\n",
       "    <tr>\n",
       "      <th>A</th>\n",
       "      <td>700</td>\n",
       "      <td>14331.342913</td>\n",
       "    </tr>\n",
       "    <tr>\n",
       "      <th>B</th>\n",
       "      <td>780</td>\n",
       "      <td>21711.876206</td>\n",
       "    </tr>\n",
       "  </tbody>\n",
       "</table>\n",
       "</div>"
      ],
      "text/plain": [
       "         conversion       revenue\n",
       "variant                          \n",
       "A               700  14331.342913\n",
       "B               780  21711.876206"
      ]
     },
     "execution_count": 12,
     "metadata": {},
     "output_type": "execute_result"
    }
   ],
   "source": [
    "df.groupby('variant').sum()"
   ]
  },
  {
   "cell_type": "code",
   "execution_count": 13,
   "metadata": {},
   "outputs": [
    {
     "name": "stdout",
     "output_type": "stream",
     "text": [
      "winning: B (significant)\n",
      "conversion rate A: 4.667%\n",
      "conversion rate B: 5.2%\n",
      "uplift: 11.429%\n",
      "standard error A: 0.00172\n",
      "standard error B: 0.00181\n",
      "Z-score: 2.13294\n",
      "p-value: 0.03293\n",
      "power: 0.56866\n"
     ]
    }
   ],
   "source": [
    "AB_z_test(\n",
    "    totals_A = 15000\n",
    "    ,successes_A = 700\n",
    "    ,totals_B = 15000\n",
    "    ,successes_B = 780\n",
    "    #,confidance = 0.95 #confidance level (0.95 if not set)\n",
    "    #,test_type = 'two-tailed' #('two-tailed' if not set)\n",
    ")"
   ]
  },
  {
   "cell_type": "code",
   "execution_count": 14,
   "metadata": {},
   "outputs": [
    {
     "data": {
      "text/plain": [
       "[0.0237, 0.7895, 0.1868]"
      ]
     },
     "execution_count": 14,
     "metadata": {},
     "output_type": "execute_result"
    }
   ],
   "source": [
    "pbb_conversion([80000,80000,80000], [1600,1700,1650])"
   ]
  },
  {
   "cell_type": "code",
   "execution_count": 15,
   "metadata": {},
   "outputs": [
    {
     "data": {
      "text/plain": [
       "[0.0215, 0.7948, 0.1837]"
      ]
     },
     "execution_count": 15,
     "metadata": {},
     "output_type": "execute_result"
    },
    {
     "data": {
      "text/plain": [
       "[0.002, 0.7052, 0.2928]"
      ]
     },
     "execution_count": 15,
     "metadata": {},
     "output_type": "execute_result"
    }
   ],
   "source": [
    "pbb_conversion([80000,80000,80000], [1600,1700,1650])\n",
    "\n",
    "pbb_revenue(\n",
    "    [4212694,4213358,4333878],\n",
    "    [639,716,760],\n",
    "    [2280,2585,2691],\n",
    "    [8265,9466,9680]\n",
    ")"
   ]
  },
  {
   "cell_type": "code",
   "execution_count": null,
   "metadata": {},
   "outputs": [],
   "source": []
  }
 ],
 "metadata": {
  "kernelspec": {
   "display_name": "Python 3",
   "language": "python",
   "name": "python3"
  },
  "language_info": {
   "codemirror_mode": {
    "name": "ipython",
    "version": 3
   },
   "file_extension": ".py",
   "mimetype": "text/x-python",
   "name": "python",
   "nbconvert_exporter": "python",
   "pygments_lexer": "ipython3",
   "version": "3.7.3"
  }
 },
 "nbformat": 4,
 "nbformat_minor": 2
}

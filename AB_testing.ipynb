{
 "cells": [
  {
   "cell_type": "markdown",
   "metadata": {},
   "source": [
    "# Frequentist AB testing - using Z test"
   ]
  },
  {
   "cell_type": "markdown",
   "metadata": {},
   "source": [
    "Simple demonstration of two sample Z-test usage for AB testing. Reality is usually much more complex. :)"
   ]
  },
  {
   "cell_type": "code",
   "execution_count": 1,
   "metadata": {},
   "outputs": [],
   "source": [
    "import sys\n",
    "sys.path.append(\"./tools\")\n",
    "from z_test_ab_testing import *\n",
    "\n",
    "from IPython.core.interactiveshell import InteractiveShell\n",
    "InteractiveShell.ast_node_interactivity = \"all\""
   ]
  },
  {
   "cell_type": "markdown",
   "metadata": {},
   "source": [
    "Let's say we want to test a new design of our web (e.g. online shop).<br>\n",
    "We aim to improve conversion rate at least by **10%**. To test that, we will start a test where random **50%** of all sessions will stay on the old version of a web (variant ___A___) and other 50% will see the new version (variant __B__). Currently our conversion is around **1/20** (1 conversion in 20 sessions).<br>\n",
    "Before running a test we want to calculate how many visits do we need to collect before trying to evaluate a test.<br>\n",
    "To calculate a minimal sample size we need several inputs:\n",
    " - current conversion rate = **1/20 = 5%**\n",
    " - uplift/MDE (minimum detectable effect) = **10%** (=> goal for a new web conversion rate: 1.1 * 20% = 22%)\n",
    " - split = **50:50**\n",
    " - confidence level = **95%** (most typical value)\n",
    " - power = **80%** (most typical value)"
   ]
  },
  {
   "cell_type": "code",
   "execution_count": 2,
   "metadata": {},
   "outputs": [
    {
     "data": {
      "text/plain": [
       "[31230.69, 31230.69]"
      ]
     },
     "execution_count": 2,
     "metadata": {},
     "output_type": "execute_result"
    }
   ],
   "source": [
    "z_test_sample_size(\n",
    "    conv_r = 1/20,\n",
    "    mde = 0.1,\n",
    "    confidance=0.95,\n",
    "    power=0.8,\n",
    "    test_share_size=0.5\n",
    ")"
   ]
  },
  {
   "cell_type": "markdown",
   "metadata": {},
   "source": [
    "=> The minimal sample size for our test is ~31K for each group."
   ]
  },
  {
   "cell_type": "markdown",
   "metadata": {},
   "source": [
    "After 7 days of testing we got results:<br>\n",
    "- number of sessions A = 31,500<br>\n",
    "- number of sessions B = 32,000<br>\n",
    "- number of conversions A = 1550<br>\n",
    "- number of conversions B = 1750<br>\n",
    "\n",
    "We already have our desired sample size so we can try to evaluate our test.<br>\n",
    "To test if this difference is significant we can perform Z-test with __hypothesis__ that there is no difference in conversion rates for these two variants."
   ]
  },
  {
   "cell_type": "code",
   "execution_count": 3,
   "metadata": {},
   "outputs": [
    {
     "name": "stdout",
     "output_type": "stream",
     "text": [
      "winning: B (significant)\n",
      "conversion rate A: 4.921%\n",
      "conversion rate B: 5.469%\n",
      "uplift: 11.139%\n",
      "standard error A: 0.00122\n",
      "standard error B: 0.00127\n",
      "Z-score: 3.1127\n",
      "Z-test p-value: 0.00185\n",
      "Z-test power: 0.87549\n"
     ]
    }
   ],
   "source": [
    "AB_z_test(\n",
    "    totals_A = 31500\n",
    "    ,successes_A = 1550\n",
    "    ,totals_B = 32000\n",
    "    ,successes_B = 1750\n",
    "    ,confidance = 0.95 #confidance level (0.95 if not set)\n",
    "    #,test_type = 'two-tailed' #('two-tailed' if not set)\n",
    ")"
   ]
  },
  {
   "cell_type": "markdown",
   "metadata": {},
   "source": [
    "We can see that conversion rate for variant B is higher (5.47% vs 4.92%) with **11% uplift**.<br>\n",
    "As p-value < 0.01, we are __rejecting__ the hypothesis and we can be more than 99% confident that this result is a consequence of variant difference. Power of our test is above 80% which was also one of our goals so we are happy and we can consider **B as a winner**. :)"
   ]
  },
  {
   "cell_type": "markdown",
   "metadata": {},
   "source": [
    "# Bayesian AB testing"
   ]
  },
  {
   "cell_type": "markdown",
   "metadata": {},
   "source": [
    "Another way how to evaluate our test is using bayesian approach by which we can calculate PBB (probability of being best) for both variants."
   ]
  },
  {
   "cell_type": "code",
   "execution_count": 5,
   "metadata": {},
   "outputs": [],
   "source": [
    "from bayes_ab_testing import *"
   ]
  },
  {
   "cell_type": "code",
   "execution_count": 6,
   "metadata": {},
   "outputs": [
    {
     "data": {
      "text/plain": [
       "[0.0017, 0.9983]"
      ]
     },
     "execution_count": 6,
     "metadata": {},
     "output_type": "execute_result"
    }
   ],
   "source": [
    "pbb_conversion(\n",
    "    totals = [31500,32000],\n",
    "    successes = [1550,1750]\n",
    ")"
   ]
  },
  {
   "cell_type": "markdown",
   "metadata": {},
   "source": [
    "=> Based on data we have, the probability that variant B is better than A is **99.94%**.\n",
    "\n",
    "_With this approach we can easily add more variants and always calculate PBBs that will be comparable and sum up to 1. For example if we had 3rd variant with 30,000 sessions and 1,600 conversions:_"
   ]
  },
  {
   "cell_type": "code",
   "execution_count": 7,
   "metadata": {},
   "outputs": [
    {
     "data": {
      "text/plain": [
       "[0.0004, 0.7789, 0.2207]"
      ]
     },
     "execution_count": 7,
     "metadata": {},
     "output_type": "execute_result"
    }
   ],
   "source": [
    "pbb_conversion(\n",
    "    totals = [31500,32000,30000],\n",
    "    successes = [1550,1750,1600]\n",
    ")"
   ]
  },
  {
   "cell_type": "markdown",
   "metadata": {},
   "source": [
    "Let's get back to our original example with two variants.<br>\n",
    "In reality, we might want to make decision also based on different facts. For instance the new variant may cause more conversions but the total revenue might be lower as people tend to purchase less or cheaper products."
   ]
  },
  {
   "cell_type": "markdown",
   "metadata": {},
   "source": [
    "To demonstrate that we will generate some fake data."
   ]
  },
  {
   "cell_type": "code",
   "execution_count": 8,
   "metadata": {},
   "outputs": [],
   "source": [
    "import datetime\n",
    "import pandas as pd\n",
    "\n",
    "\n",
    "try:\n",
    "    df = pd.read_pickle(\"ab_test_data.pkl\")\n",
    "except FileNotFoundError:\n",
    "    params = [\n",
    "        {'variant' : 'A', 'source': 'mobile', 'impressions': round(31500 * 1/3), 'orders': round(1550 * 1/3), 'mean': 2},\n",
    "        {'variant' : 'B', 'source': 'mobile', 'impressions': round(32000 * 1/3), 'orders': round(1750 * 1/3), 'mean': 2.3},\n",
    "        {'variant' : 'A', 'source': 'desktop', 'impressions': round(31500 * 2/3), 'orders': round(1550 * 2/3), 'mean': 2.7},\n",
    "        {'variant' : 'B', 'source': 'desktop', 'impressions': round(32000 * 2/3), 'orders': round(1750 * 2/3), 'mean': 2.9},\n",
    "    ]\n",
    "    data = []\n",
    "    for p in params:\n",
    "        dates = np.array([datetime.date(2019, 5, np.random.randint(1,7+1)) for i in range(p['impressions'])])\n",
    "        orders = np.append(\n",
    "            np.random.lognormal(mean=p['mean'], sigma=1.0, size=p['orders']),\n",
    "            np.zeros(p['impressions'] - p['orders'])\n",
    "        )\n",
    "        for i in range(p['impressions']):\n",
    "            data.append({\n",
    "                'date': dates[i],\n",
    "                'variant': p['variant'],\n",
    "                'source': p['source'],\n",
    "                'conversion': 1 if orders[i] > 0 else 0,\n",
    "                'revenue': orders[i]\n",
    "            })\n",
    "\n",
    "    df = pd.DataFrame(data).sample(frac=1).reset_index(drop=True)\n",
    "    df.to_pickle(\"ab_test_data.pkl\")\n"
   ]
  },
  {
   "cell_type": "code",
   "execution_count": 9,
   "metadata": {},
   "outputs": [
    {
     "data": {
      "text/html": [
       "<div>\n",
       "<style scoped>\n",
       "    .dataframe tbody tr th:only-of-type {\n",
       "        vertical-align: middle;\n",
       "    }\n",
       "\n",
       "    .dataframe tbody tr th {\n",
       "        vertical-align: top;\n",
       "    }\n",
       "\n",
       "    .dataframe thead th {\n",
       "        text-align: right;\n",
       "    }\n",
       "</style>\n",
       "<table border=\"1\" class=\"dataframe\">\n",
       "  <thead>\n",
       "    <tr style=\"text-align: right;\">\n",
       "      <th></th>\n",
       "      <th>conversion</th>\n",
       "      <th>date</th>\n",
       "      <th>revenue</th>\n",
       "      <th>source</th>\n",
       "      <th>variant</th>\n",
       "    </tr>\n",
       "  </thead>\n",
       "  <tbody>\n",
       "    <tr>\n",
       "      <th>0</th>\n",
       "      <td>0</td>\n",
       "      <td>2019-05-03</td>\n",
       "      <td>0.000000</td>\n",
       "      <td>mobile</td>\n",
       "      <td>B</td>\n",
       "    </tr>\n",
       "    <tr>\n",
       "      <th>1</th>\n",
       "      <td>0</td>\n",
       "      <td>2019-05-07</td>\n",
       "      <td>0.000000</td>\n",
       "      <td>mobile</td>\n",
       "      <td>B</td>\n",
       "    </tr>\n",
       "    <tr>\n",
       "      <th>2</th>\n",
       "      <td>0</td>\n",
       "      <td>2019-05-04</td>\n",
       "      <td>0.000000</td>\n",
       "      <td>mobile</td>\n",
       "      <td>B</td>\n",
       "    </tr>\n",
       "    <tr>\n",
       "      <th>3</th>\n",
       "      <td>0</td>\n",
       "      <td>2019-05-07</td>\n",
       "      <td>0.000000</td>\n",
       "      <td>desktop</td>\n",
       "      <td>A</td>\n",
       "    </tr>\n",
       "    <tr>\n",
       "      <th>4</th>\n",
       "      <td>0</td>\n",
       "      <td>2019-05-03</td>\n",
       "      <td>0.000000</td>\n",
       "      <td>desktop</td>\n",
       "      <td>B</td>\n",
       "    </tr>\n",
       "    <tr>\n",
       "      <th>5</th>\n",
       "      <td>0</td>\n",
       "      <td>2019-05-05</td>\n",
       "      <td>0.000000</td>\n",
       "      <td>mobile</td>\n",
       "      <td>B</td>\n",
       "    </tr>\n",
       "    <tr>\n",
       "      <th>6</th>\n",
       "      <td>0</td>\n",
       "      <td>2019-05-06</td>\n",
       "      <td>0.000000</td>\n",
       "      <td>desktop</td>\n",
       "      <td>B</td>\n",
       "    </tr>\n",
       "    <tr>\n",
       "      <th>7</th>\n",
       "      <td>1</td>\n",
       "      <td>2019-05-02</td>\n",
       "      <td>63.928773</td>\n",
       "      <td>mobile</td>\n",
       "      <td>B</td>\n",
       "    </tr>\n",
       "    <tr>\n",
       "      <th>8</th>\n",
       "      <td>0</td>\n",
       "      <td>2019-05-04</td>\n",
       "      <td>0.000000</td>\n",
       "      <td>mobile</td>\n",
       "      <td>A</td>\n",
       "    </tr>\n",
       "    <tr>\n",
       "      <th>9</th>\n",
       "      <td>0</td>\n",
       "      <td>2019-05-05</td>\n",
       "      <td>0.000000</td>\n",
       "      <td>desktop</td>\n",
       "      <td>B</td>\n",
       "    </tr>\n",
       "  </tbody>\n",
       "</table>\n",
       "</div>"
      ],
      "text/plain": [
       "   conversion        date    revenue   source variant\n",
       "0           0  2019-05-03   0.000000   mobile       B\n",
       "1           0  2019-05-07   0.000000   mobile       B\n",
       "2           0  2019-05-04   0.000000   mobile       B\n",
       "3           0  2019-05-07   0.000000  desktop       A\n",
       "4           0  2019-05-03   0.000000  desktop       B\n",
       "5           0  2019-05-05   0.000000   mobile       B\n",
       "6           0  2019-05-06   0.000000  desktop       B\n",
       "7           1  2019-05-02  63.928773   mobile       B\n",
       "8           0  2019-05-04   0.000000   mobile       A\n",
       "9           0  2019-05-05   0.000000  desktop       B"
      ]
     },
     "execution_count": 9,
     "metadata": {},
     "output_type": "execute_result"
    }
   ],
   "source": [
    "df.head(10)"
   ]
  },
  {
   "cell_type": "markdown",
   "metadata": {},
   "source": [
    "In each row we have information about one session. As our conversion rate was around 5%, we can see that in most cases the revenue per session is 0.<br>\n",
    "Total conversions and revenue per variant:"
   ]
  },
  {
   "cell_type": "code",
   "execution_count": 32,
   "metadata": {},
   "outputs": [
    {
     "data": {
      "text/html": [
       "<div>\n",
       "<style scoped>\n",
       "    .dataframe tbody tr th:only-of-type {\n",
       "        vertical-align: middle;\n",
       "    }\n",
       "\n",
       "    .dataframe tbody tr th {\n",
       "        vertical-align: top;\n",
       "    }\n",
       "\n",
       "    .dataframe thead th {\n",
       "        text-align: right;\n",
       "    }\n",
       "</style>\n",
       "<table border=\"1\" class=\"dataframe\">\n",
       "  <thead>\n",
       "    <tr style=\"text-align: right;\">\n",
       "      <th></th>\n",
       "      <th>sessions</th>\n",
       "      <th>conversions</th>\n",
       "      <th>revenue</th>\n",
       "      <th>revenue_per_session</th>\n",
       "    </tr>\n",
       "    <tr>\n",
       "      <th>variant</th>\n",
       "      <th></th>\n",
       "      <th></th>\n",
       "      <th></th>\n",
       "      <th></th>\n",
       "    </tr>\n",
       "  </thead>\n",
       "  <tbody>\n",
       "    <tr>\n",
       "      <th>A</th>\n",
       "      <td>31500</td>\n",
       "      <td>1550</td>\n",
       "      <td>32801.475912</td>\n",
       "      <td>1.041317</td>\n",
       "    </tr>\n",
       "    <tr>\n",
       "      <th>B</th>\n",
       "      <td>32000</td>\n",
       "      <td>1750</td>\n",
       "      <td>44485.882740</td>\n",
       "      <td>1.390184</td>\n",
       "    </tr>\n",
       "  </tbody>\n",
       "</table>\n",
       "</div>"
      ],
      "text/plain": [
       "         sessions  conversions       revenue  revenue_per_session\n",
       "variant                                                          \n",
       "A           31500         1550  32801.475912             1.041317\n",
       "B           32000         1750  44485.882740             1.390184"
      ]
     },
     "execution_count": 32,
     "metadata": {},
     "output_type": "execute_result"
    }
   ],
   "source": [
    "groupby_1 = df.groupby('variant')['variant', 'conversion', 'revenue'].agg({'variant': 'count', 'conversion': 'sum','revenue': 'sum'}).rename(columns = {'variant': 'sessions', 'conversion': 'conversions'})\n",
    "groupby_1['revenue_per_session'] = groupby_1['revenue'] / groupby_1['sessions']\n",
    "\n",
    "groupby_1"
   ]
  },
  {
   "cell_type": "code",
   "execution_count": 15,
   "metadata": {},
   "outputs": [
    {
     "data": {
      "text/plain": [
       "[0.0225, 0.7882, 0.1893]"
      ]
     },
     "execution_count": 15,
     "metadata": {},
     "output_type": "execute_result"
    },
    {
     "data": {
      "text/plain": [
       "[0.0025, 0.7053, 0.2922]"
      ]
     },
     "execution_count": 15,
     "metadata": {},
     "output_type": "execute_result"
    }
   ],
   "source": [
    "pbb_conversion([80000,80000,80000], [1600,1700,1650])\n",
    "\n",
    "pbb_revenue(\n",
    "    [4212694,4213358,4333878],\n",
    "    [639,716,760],\n",
    "    [2280,2585,2691],\n",
    "    [8265,9466,9680]\n",
    ")"
   ]
  },
  {
   "cell_type": "code",
   "execution_count": null,
   "metadata": {},
   "outputs": [],
   "source": []
  }
 ],
 "metadata": {
  "kernelspec": {
   "display_name": "Python 3",
   "language": "python",
   "name": "python3"
  },
  "language_info": {
   "codemirror_mode": {
    "name": "ipython",
    "version": 3
   },
   "file_extension": ".py",
   "mimetype": "text/x-python",
   "name": "python",
   "nbconvert_exporter": "python",
   "pygments_lexer": "ipython3",
   "version": "3.7.3"
  }
 },
 "nbformat": 4,
 "nbformat_minor": 2
}

{
 "cells": [
  {
   "cell_type": "markdown",
   "metadata": {},
   "source": [
    "# AB testing"
   ]
  },
  {
   "cell_type": "code",
   "execution_count": 1,
   "metadata": {},
   "outputs": [],
   "source": [
    "import sys\n",
    "sys.path.append(\"./tools\")\n",
    "from ab_testing import *\n",
    "\n",
    "from IPython.core.interactiveshell import InteractiveShell\n",
    "InteractiveShell.ast_node_interactivity = \"all\""
   ]
  },
  {
   "cell_type": "code",
   "execution_count": 2,
   "metadata": {},
   "outputs": [
    {
     "name": "stdout",
     "output_type": "stream",
     "text": [
      "winning: t (significant - confidance: 0.95)\n",
      "conversion rate A: 1.999%\n",
      "conversion rate B: 2.184%\n",
      "uplift: 9.262%\n",
      "se A: 0.00026\n",
      "se B: 0.00033\n",
      "Z-score: 4.44757\n",
      "p-value: 1e-05\n",
      "power: 0.99998\n"
     ]
    }
   ],
   "source": [
    "AB_test(['f', 't'], [298169.0, 198613.0], [5959.0, 4337.0])"
   ]
  },
  {
   "cell_type": "code",
   "execution_count": 3,
   "metadata": {},
   "outputs": [
    {
     "data": {
      "text/plain": [
       "[0.0243, 0.7949, 0.1808]"
      ]
     },
     "execution_count": 3,
     "metadata": {},
     "output_type": "execute_result"
    },
    {
     "data": {
      "text/plain": [
       "[0.0026, 0.7014, 0.296]"
      ]
     },
     "execution_count": 3,
     "metadata": {},
     "output_type": "execute_result"
    }
   ],
   "source": [
    "pbb_conversion([80000,80000,80000], [1600,1700,1650])\n",
    "\n",
    "pbb_revenue(\n",
    "    [4212694,4213358,4333878],\n",
    "    [639,716,760],\n",
    "    [2280,2585,2691],\n",
    "    [8265,9466,9680]\n",
    ")"
   ]
  },
  {
   "cell_type": "code",
   "execution_count": null,
   "metadata": {},
   "outputs": [],
   "source": []
  }
 ],
 "metadata": {
  "kernelspec": {
   "display_name": "Python 3",
   "language": "python",
   "name": "python3"
  },
  "language_info": {
   "codemirror_mode": {
    "name": "ipython",
    "version": 3
   },
   "file_extension": ".py",
   "mimetype": "text/x-python",
   "name": "python",
   "nbconvert_exporter": "python",
   "pygments_lexer": "ipython3",
   "version": "3.7.3"
  }
 },
 "nbformat": 4,
 "nbformat_minor": 2
}
